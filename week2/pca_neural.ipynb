{
 "cells": [
  {
   "cell_type": "code",
   "execution_count": null,
   "metadata": {},
   "outputs": [],
   "source": [
    "# import packages\n",
    "import numpy as np\n",
    "import pandas as pd\n",
    "import seaborn as sns\n",
    "import matplotlib.pyplot as plt\n",
    "import matplotlib as mpl"
   ]
  },
  {
   "cell_type": "code",
   "execution_count": null,
   "metadata": {},
   "outputs": [],
   "source": [
    "# load meta data\n",
    "meta_fp = \"data/metadata.csv\" # meta data filepath\n",
    "df = pd.read_csv(meta_fp, index_col=0)\n",
    "\n",
    "# get data path\n",
    "idx = 0\n",
    "data_path = df[df[\"mouse_id\"] == idx][\"data_path\"].item()\n",
    "\n",
    "# load actual data\n",
    "data = np.load(data_path, allow_pickle=True)\n",
    "data = data.item()\n"
   ]
  },
  {
   "cell_type": "code",
   "execution_count": null,
   "metadata": {},
   "outputs": [],
   "source": [
    "data.keys()"
   ]
  },
  {
   "cell_type": "code",
   "execution_count": null,
   "metadata": {},
   "outputs": [],
   "source": [
    "# save timing information\n",
    "stim_on, stim_off = data[\"stim\"]\n",
    "times = [stim_on, stim_off, data[\"go_cue\"]]"
   ]
  },
  {
   "cell_type": "code",
   "execution_count": null,
   "metadata": {},
   "outputs": [],
   "source": [
    "data[\"L\"].shape"
   ]
  },
  {
   "cell_type": "markdown",
   "metadata": {},
   "source": [
    "# \n",
    "For this example, I am interested in expressing averaged trial activity in a new set of axes\n",
    "> I want to reduce the neurons axes"
   ]
  },
  {
   "cell_type": "code",
   "execution_count": null,
   "metadata": {},
   "outputs": [],
   "source": [
    "def stratify_by_outcome(data, results, outcomes=[0, 1]):\n",
    "    new_data = []\n",
    "    for outcome in outcomes:\n",
    "        data_by_outcome = data[:,:,np.where(results == outcome)]\n",
    "        new_data.append(np.squeeze(data_by_outcome))\n",
    "    return new_data"
   ]
  },
  {
   "cell_type": "code",
   "execution_count": null,
   "metadata": {},
   "outputs": [],
   "source": [
    "# get correct trial indices\n",
    "activity = []\n",
    "outcomes = [0, 1] # two possible outcomes: correct or incorrect\n",
    "\n",
    "activity = stratify_by_outcome(data[\"L\"], data[\"correct_L_trials\"])\n",
    "activity += stratify_by_outcome(data[\"R\"], data[\"correct_R_trials\"])\n"
   ]
  },
  {
   "cell_type": "code",
   "execution_count": null,
   "metadata": {},
   "outputs": [],
   "source": [
    "axis = 2\n",
    "avg_activity = []\n",
    "for i in range(len(activity)):\n",
    "    avg_activity.append(np.mean(activity[i], axis=axis))\n",
    "\n",
    "avg_activity_concat = np.concatenate(avg_activity)"
   ]
  },
  {
   "cell_type": "code",
   "execution_count": null,
   "metadata": {},
   "outputs": [],
   "source": [
    "avg_activity_concat.shape"
   ]
  },
  {
   "cell_type": "code",
   "execution_count": null,
   "metadata": {},
   "outputs": [],
   "source": [
    "from sklearn.decomposition import PCA\n",
    "pca = PCA()\n",
    "pca.fit(avg_activity_concat)"
   ]
  },
  {
   "cell_type": "code",
   "execution_count": null,
   "metadata": {},
   "outputs": [],
   "source": [
    "from helper import *"
   ]
  },
  {
   "cell_type": "code",
   "execution_count": null,
   "metadata": {},
   "outputs": [],
   "source": [
    "## show variance explained (by the first 10 PCs)\n",
    "n_pc = 20\n",
    "# plot_cum_var_explained(pca.explained_variance_ratio_, n=n_pc)\n",
    "plot_var_explained(pca.explained_variance_ratio_, n=n_pc)"
   ]
  },
  {
   "cell_type": "markdown",
   "metadata": {},
   "source": [
    "Now is a good time to pause and see if you understand what the PCs are. What is a good geometric understanding of the PCs we are finding here?"
   ]
  },
  {
   "cell_type": "markdown",
   "metadata": {},
   "source": [
    "## Visualize neural activity in the first 2 PCs"
   ]
  },
  {
   "cell_type": "code",
   "execution_count": null,
   "metadata": {},
   "outputs": [],
   "source": [
    "## show time-evolution of average neural dynamics along 2 PCs\n",
    "pc_id1, pc_id2 = 0, 1 # PC's of interest\n",
    "\n",
    "colors = [\"Reds\", \"Blues\"] # colormaps for right and left\n",
    "trial_length = data[\"L\"].shape[0] # length of a trial\n",
    "\n",
    "fig, axes = plt.subplots(1, 2, figsize=(10, 5), sharex=True, sharey=True)\n",
    "\n",
    "labels = [\"go\", \"s_start\", \"s_end\"] # timing labels\n",
    "label_colors = [\"b\", \"r\"]\n",
    "counter = 0\n",
    "\n",
    "for i in range(2): # R, L\n",
    "    for c, title in enumerate([\"incorrect trials\", \"correct trials\"]): # correct, incorrect\n",
    "        # get PC projection for specific dir x cond \n",
    "        offset = trial_length * counter\n",
    "        counter += 1\n",
    "        # trial average data\n",
    "        avg_act = avg_activity_concat[offset:trial_length + offset,:]\n",
    "        # pca transformed data\n",
    "        pcaD = pca.transform(avg_act)\n",
    "        \n",
    "        ax = axes[c]\n",
    "        # set colormap\n",
    "        cmap = mpl.colormaps.get_cmap(colors[i])\n",
    "        for t in range(trial_length): # plot each time point\n",
    "            s = ax.scatter(pcaD[t, pc_id1], pcaD[t, pc_id2], \n",
    "                           color=cmap(t/trial_length), marker=\"o\")\n",
    "        ax.set_title(title)\n",
    "            \n",
    "fig.supxlabel(f\"PC{pc_id1}\")\n",
    "fig.supylabel(f\"PC{pc_id2}\")\n",
    "\n",
    "# get a colorbar\n",
    "from mpl_toolkits.axes_grid1 import make_axes_locatable\n",
    "divider = make_axes_locatable(ax)\n",
    "cax = divider.append_axes(\"right\", size=\"5%\", pad=0.1)\n",
    "\n",
    "cmap = mpl.colormaps.get_cmap(\"Greys\")\n",
    "norm = mpl.colors.Normalize(vmin=0, vmax=trial_length)\n",
    "\n",
    "plt.colorbar(mpl.cm.ScalarMappable(norm=norm, cmap=cmap),\n",
    "             cax=cax, label='Time Steps', location=\"right\")"
   ]
  },
  {
   "cell_type": "markdown",
   "metadata": {},
   "source": [
    "### A 3D plot just for fun"
   ]
  },
  {
   "cell_type": "code",
   "execution_count": null,
   "metadata": {},
   "outputs": [],
   "source": [
    "# Dependencies for 3D plot\n",
    "import plotly\n",
    "import plotly.graph_objects as go\n",
    "from plotly.subplots import make_subplots\n",
    "\n",
    "PCS = [0, 1, 2] # PCs of interest\n",
    "\n",
    "is_correct = True # decide to plot correct or error trials\n",
    "correct, wrong = [0, 1], [2, 3] # for indexing\n",
    "blocks = correct\n",
    "if (not is_correct):\n",
    "    blocks = wrong\n",
    "    \n",
    "ann = []\n",
    "\n",
    "colorscales = [\"Blues\", \"Reds\"]\n",
    "colorbarx = [0.95, 1]\n",
    "\n",
    "fig = make_subplots(rows=1, cols=1, specs=[[{\"type\": \"scene\"}]])\n",
    "\n",
    "for i in range(2):\n",
    "    offset = blocks[i] * trial_length\n",
    "    pcaD = pca.transform(avg_activity_concat[offset:trial_length+offset,:])\n",
    "    d = {\"x\":pcaD[:,PCS[0]], \"y\":pcaD[:,PCS[1]], \"z\":pcaD[:,PCS[2]],\n",
    "         \"Time\":list(range(trial_length))}\n",
    "\n",
    "    # configure the trace\n",
    "    trace = go.Scatter3d(x=d[\"x\"], y=d[\"y\"], z=d[\"z\"],\n",
    "                         mode='markers',\n",
    "                         marker={'size': 5,\n",
    "                                 'opacity': 1,\n",
    "                                 'color': d[\"Time\"], # color by time step\n",
    "                                 'colorscale': colorscales[i],\n",
    "                                 'colorbar': dict(thickness=20, x=colorbarx[i], title=\"Time\")\n",
    "                                }\n",
    "    )\n",
    "\n",
    "\n",
    "    fig.add_trace(trace, row=1, col=1)\n",
    "\n",
    "fig.update_layout(\n",
    "    margin=dict(l=30, r=30, t=30, b=30)\n",
    ")"
   ]
  },
  {
   "cell_type": "markdown",
   "metadata": {},
   "source": [
    "### What else can we do with our PCA outcomes?"
   ]
  },
  {
   "cell_type": "code",
   "execution_count": null,
   "metadata": {},
   "outputs": [],
   "source": [
    "def moving_avg(d, win=2):\n",
    "    filt = np.ones(win)/win\n",
    "    return np.convolve(d, filt)\n",
    "\n",
    "def get_smoothed_velocity(D, win=2):\n",
    "    d = np.diff(D, axis=0)\n",
    "    return d, moving_avg(d, win)"
   ]
  },
  {
   "cell_type": "code",
   "execution_count": null,
   "metadata": {},
   "outputs": [],
   "source": [
    "f, axes = plt.subplots(1, 3, figsize=(15, 3), sharex=True, sharey=True)\n",
    "labels = [\"Left\", \"Right\"]\n",
    "colors = [ \"tab:red\", \"tab:blue\"]\n",
    "\n",
    "# check one condition at a time\n",
    "is_correct = True\n",
    "\n",
    "correct, wrong = [0, 1], [2, 3] # for indexing\n",
    "blocks = correct # default\n",
    "cond = \"Correct\" # default\n",
    "if (not is_correct):\n",
    "    blocks = wrong\n",
    "    cond = \"Wrong\"\n",
    "\n",
    "# look at the first n pcs\n",
    "n_pcs = 3\n",
    "\n",
    "for i in range(len(blocks)):\n",
    "    offset = blocks[i] * trial_length\n",
    "    pcaD = pca.transform(avg_activity_concat[offset:trial_length+offset,:])\n",
    "\n",
    "    for j in range(n_pcs): # plot for the first 3 PCs\n",
    "        ax = axes[j]\n",
    "        d, v = get_smoothed_velocity(pcaD[:, j], 5)\n",
    "        ax.plot(v, label=labels[i], c=colors[i])\n",
    "        ax.set_title(\"PC%d\"%j)\n",
    "        \n",
    "        for k in range(3): # time markers\n",
    "            t = times[k]\n",
    "            ax.axvline(t, ls=\"--\", c=\"black\")\n",
    "        ax.axhline(0, ls=\":\", c=\"gray\")\n",
    "        \n",
    "plt.legend(bbox_to_anchor=(1.05, 0.5)) # put legend outside\n",
    "\n",
    "## set overal title, axes labels\n",
    "f.add_subplot(111, frameon=False)\n",
    "# hide tick and tick label of the big axis\n",
    "plt.tick_params(labelcolor='none', which='both', top=False, bottom=False, left=False, right=False)\n",
    "plt.xlabel(\"Time\", fontsize=14)\n",
    "plt.ylabel(\"Velocity (disp. in unit time)\", fontsize=14, labelpad=20)\n",
    "plt.title(\"Velocity (smoothed) in the first 3 PCs through time [%s Trials]\"%cond, fontsize=15, pad=35)"
   ]
  }
 ],
 "metadata": {
  "kernelspec": {
   "display_name": "latent_RNN",
   "language": "python",
   "name": "python3"
  },
  "language_info": {
   "codemirror_mode": {
    "name": "ipython",
    "version": 3
   },
   "file_extension": ".py",
   "mimetype": "text/x-python",
   "name": "python",
   "nbconvert_exporter": "python",
   "pygments_lexer": "ipython3",
   "version": "3.9.16"
  }
 },
 "nbformat": 4,
 "nbformat_minor": 2
}
