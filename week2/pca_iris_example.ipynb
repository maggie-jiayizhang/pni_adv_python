{
 "cells": [
  {
   "cell_type": "markdown",
   "metadata": {},
   "source": [
    "An example of Principal Component Analysis on the [iris](https://en.wikipedia.org/wiki/Iris_flower_data_set) dataset. Based on the PCA tutorial of [scikit-learn](https://scikit-learn.org/stable/auto_examples/decomposition/plot_pca_iris.html)."
   ]
  },
  {
   "cell_type": "code",
   "execution_count": null,
   "metadata": {},
   "outputs": [],
   "source": [
    "import numpy as np\n",
    "import matplotlib.pyplot as plt\n",
    "import seaborn as sns\n",
    "\n",
    "# unused but required import for doing 3d projections with matplotlib < 3.2\n",
    "import mpl_toolkits.mplot3d  # noqa: F401\n",
    "\n",
    "from sklearn import datasets, decomposition\n"
   ]
  },
  {
   "cell_type": "markdown",
   "metadata": {},
   "source": [
    "sklearn has many cool datasets that we can call and play with. See more in the `sklearn.datasets` doc"
   ]
  },
  {
   "cell_type": "code",
   "execution_count": null,
   "metadata": {},
   "outputs": [],
   "source": [
    "iris = datasets.load_iris()\n",
    "X = iris.data # data\n",
    "y = iris.target # label"
   ]
  },
  {
   "cell_type": "code",
   "execution_count": null,
   "metadata": {},
   "outputs": [],
   "source": [
    "# list features\n",
    "features = [\"sepal length\", \"sepal width\", \"petal lenght\", \"petal width\"]\n",
    "# list flower types\n",
    "names = [\"Setosa\",\"Versicolour\",\"Virginica\"]\n",
    "# assign a color to each one\n",
    "colors = [\"tab:orange\", \"tab:blue\", \"tab:green\"]"
   ]
  },
  {
   "cell_type": "code",
   "execution_count": null,
   "metadata": {},
   "outputs": [],
   "source": [
    "fid0, fid1 = 1, 2\n",
    "\n",
    "# color the points by their label\n",
    "for i, name in enumerate(names):\n",
    "    idx = np.where(i == y)\n",
    "    plt.scatter(X[idx, fid0], X[idx, fid1], c=colors[i],\n",
    "               label=name)\n",
    "\n",
    "plt.xlabel(f\"{features[fid0]}\")\n",
    "plt.ylabel(f\"{features[fid1]}\")\n",
    "plt.title(f\"Comparing {features[fid0]} with {features[fid1]}\")\n",
    "plt.legend()"
   ]
  },
  {
   "cell_type": "markdown",
   "metadata": {},
   "source": [
    "Inspect X.shape (150, 4): 150 samples total of the 3 types of irises (Setosa, Versicolour, and Virginica); 4 features are measured for each sample: sepal length, sepal width, petal lenght and petal width.\n",
    "\n",
    "What do we have in the dataset? How do we visualize things when there are 4 dimensions?"
   ]
  },
  {
   "cell_type": "code",
   "execution_count": null,
   "metadata": {},
   "outputs": [],
   "source": [
    "# plot 3D plot of our raw data\n",
    "\n",
    "# make a figure\n",
    "fig = plt.figure(1, figsize=(4, 3))\n",
    "plt.clf()\n",
    "ax = fig.add_subplot(111, projection=\"3d\", elev=48, azim=134)\n",
    "ax.set_position([0, 0, 0.95, 1])\n",
    "\n",
    "# features being ploted on the x, y, z axis\n",
    "fidx, fidy, fidz = 0, 1, 2\n",
    "\n",
    "# color the points by their label\n",
    "for i, name in enumerate(names):\n",
    "    idx = np.where(i == y)\n",
    "    ax.scatter(X[idx, fidx], X[idx, fidy], X[idx, fidz], c=colors[i],\n",
    "               label=name)\n",
    "\n",
    "# display names as legends\n",
    "plt.legend(bbox_to_anchor=(1.5, 1), frameon=False)\n",
    "\n",
    "# set axes labels\n",
    "ax.set_xlabel(features[fidx])\n",
    "ax.set_ylabel(features[fidy])\n",
    "ax.set_zlabel(features[fidz])\n"
   ]
  },
  {
   "cell_type": "markdown",
   "metadata": {},
   "source": [
    "Look up plotly if you want 3D interactive plots."
   ]
  },
  {
   "cell_type": "markdown",
   "metadata": {},
   "source": [
    "Use PCA to find new axes to express our data in!"
   ]
  },
  {
   "cell_type": "code",
   "execution_count": null,
   "metadata": {},
   "outputs": [],
   "source": [
    "# initialize a PCA object (think about it as loading in a model)\n",
    "pca = decomposition.PCA()\n",
    "pca.fit(X)\n",
    "X_new = pca.transform(X)\n",
    "\n",
    "# alternatively you can call: X_transformed = pca.fit_transform(X)"
   ]
  },
  {
   "cell_type": "code",
   "execution_count": null,
   "metadata": {},
   "outputs": [],
   "source": [
    "fig = plt.figure(1, figsize=(4, 3))\n",
    "\n",
    "# which pcs to look at\n",
    "pcx, pcy = 0, 2\n",
    "\n",
    "# color the points by their label\n",
    "for i, name in enumerate(names):\n",
    "    idx = np.where(i == y)\n",
    "    plt.scatter(X_new[idx, pcx], X_new[idx, pcy], c=colors[i], label=name)\n",
    "\n",
    "\n",
    "# display names as legends\n",
    "plt.legend(bbox_to_anchor=(1.1, 0.65), frameon=False)\n",
    "\n",
    "# set axes labels\n",
    "plt.xlabel(f\"PC{pcx}\")\n",
    "plt.ylabel(f\"PC{pcy}\")\n"
   ]
  },
  {
   "cell_type": "code",
   "execution_count": null,
   "metadata": {},
   "outputs": [],
   "source": [
    "fig = plt.figure(1, figsize=(4, 3))\n",
    "plt.clf()\n",
    "\n",
    "ax = fig.add_subplot(111, projection=\"3d\", elev=48, azim=134)\n",
    "ax.set_position([0, 0, 0.95, 1])\n",
    "\n",
    "# color the points by their label\n",
    "for i, name in enumerate(names):\n",
    "    idx = np.where(i == y)\n",
    "    ax.scatter(X_new[idx, 0], X_new[idx, 1], X_new[idx, 2], c=colors[i],\n",
    "               label=name)\n",
    "\n",
    "# display names as legends\n",
    "plt.legend(bbox_to_anchor=(1.1, 1), frameon=False)\n",
    "\n",
    "# set axes labels\n",
    "ax.set_xlabel(\"PC0\")\n",
    "ax.set_ylabel(\"PC1\")\n",
    "ax.set_zlabel(\"PC2\")\n"
   ]
  },
  {
   "cell_type": "markdown",
   "metadata": {},
   "source": [
    "Hold on: what's in these PCs? Is PCA some sort of black magic/black box?\n",
    "\n",
    "> No! we can piece out some parts of the puzzle by looking at the loadings and variance explained\n"
   ]
  },
  {
   "cell_type": "code",
   "execution_count": null,
   "metadata": {},
   "outputs": [],
   "source": [
    "# import useful (home-made) helper functions\n",
    "from helper import *"
   ]
  },
  {
   "cell_type": "code",
   "execution_count": null,
   "metadata": {},
   "outputs": [],
   "source": [
    "plot_var_explained(pca.explained_variance_ratio_, n=3)"
   ]
  },
  {
   "cell_type": "code",
   "execution_count": null,
   "metadata": {},
   "outputs": [],
   "source": [
    "components = pca.components_\n",
    "components = np.squeeze(components)\n",
    "\n",
    "count = 0  \n",
    "\n",
    "feature_colors = [\"tab:orange\", \"tab:blue\", \"tab:green\", \"tab:purple\"]\n",
    "\n",
    "for i in range(len(features)):\n",
    "    for j in range(components.shape[0]):\n",
    "        plt.bar(count, components[i, j], color=feature_colors[i], label=f\"feature {i}\" if j==0 else \"\")\n",
    "        count += 1\n",
    "\n",
    "plt.ylabel(\"Component loadings\")\n",
    "plt.xlabel(\"Feature x PC\")\n",
    "plt.xticks(range(count), list(range(4))*4)\n",
    "plt.legend(bbox_to_anchor=(1., 0.6))"
   ]
  }
 ],
 "metadata": {
  "kernelspec": {
   "display_name": "latent_RNN",
   "language": "python",
   "name": "python3"
  },
  "language_info": {
   "codemirror_mode": {
    "name": "ipython",
    "version": 3
   },
   "file_extension": ".py",
   "mimetype": "text/x-python",
   "name": "python",
   "nbconvert_exporter": "python",
   "pygments_lexer": "ipython3",
   "version": "3.9.16"
  }
 },
 "nbformat": 4,
 "nbformat_minor": 2
}
